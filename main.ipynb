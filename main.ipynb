{
 "cells": [
  {
   "cell_type": "code",
   "execution_count": 2,
   "metadata": {},
   "outputs": [],
   "source": [
    "import requests as req"
   ]
  },
  {
   "cell_type": "code",
   "execution_count": null,
   "metadata": {},
   "outputs": [],
   "source": [
    "res = req.get(\"https://one-api.ir/hafez?token={token}\")\n",
    "\n",
    "fal = res.json()\n",
    "\n",
    "print(f\"\"\"{fal[\"result\"][\"TITLE\"]}\n",
    "\n",
    "شعر:\n",
    "  {fal[\"result\"][\"RHYME\"]}\n",
    "معنی:\n",
    "  {fal[\"result\"][\"MEANING\"]}\n",
    "\n",
    "شماره: {fal[\"result\"][\"SHOMARE\"]}\n",
    "\"\"\")"
   ]
  }
 ],
 "metadata": {
  "kernelspec": {
   "display_name": "Python 3",
   "language": "python",
   "name": "python3"
  },
  "language_info": {
   "codemirror_mode": {
    "name": "ipython",
    "version": 3
   },
   "file_extension": ".py",
   "mimetype": "text/x-python",
   "name": "python",
   "nbconvert_exporter": "python",
   "pygments_lexer": "ipython3",
   "version": "3.10.9"
  }
 },
 "nbformat": 4,
 "nbformat_minor": 2
}
